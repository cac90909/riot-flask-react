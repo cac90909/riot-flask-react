{
 "cells": [
  {
   "cell_type": "code",
   "execution_count": 1,
   "metadata": {},
   "outputs": [],
   "source": [
    "from riotwatcher import LolWatcher, ApiError\n",
    "import pandas as pd\n",
    "import collections\n",
    "import matplotlib.pyplot as plt\n",
    "import json"
   ]
  },
  {
   "cell_type": "code",
   "execution_count": 2,
   "metadata": {},
   "outputs": [],
   "source": [
    "def get_api_key(): #To be called inside of \"create_watcher_obj()\"\n",
    "    \n",
    "    api_file = open(\"../riot_api_key.txt\",\"r\")\n",
    "    api_key = api_file.read()\n",
    "    api_file.close()\n",
    "    return api_key"
   ]
  },
  {
   "cell_type": "code",
   "execution_count": 3,
   "metadata": {},
   "outputs": [],
   "source": [
    "def create_watcher_obj(): \n",
    "    api_key = get_api_key()\n",
    "    watcher = LolWatcher(api_key)\n",
    "    return watcher"
   ]
  },
  {
   "cell_type": "code",
   "execution_count": 4,
   "metadata": {},
   "outputs": [],
   "source": [
    "watcher = create_watcher_obj()"
   ]
  },
  {
   "cell_type": "code",
   "execution_count": 5,
   "metadata": {},
   "outputs": [],
   "source": [
    "def get_acc_id(region='na1', summoner_name='we and i'): #To be called inside of \"get_match_list(x,y)\"\n",
    "     \n",
    "    watcher_summoner = watcher.summoner.by_name(region,summoner_name)\n",
    "    return watcher_summoner['accountId']"
   ]
  },
  {
   "cell_type": "code",
   "execution_count": 6,
   "metadata": {},
   "outputs": [],
   "source": [
    "def get_match_list(region='na1', summoner_name=\"we and i\"):\n",
    "    \n",
    "    acc_id = get_acc_id(region, summoner_name)\n",
    "    my_matches = watcher.match.matchlist_by_account(region, acc_id)\n",
    "    return my_matches['matches']\n",
    "    \n",
    "    "
   ]
  },
  {
   "cell_type": "code",
   "execution_count": 7,
   "metadata": {},
   "outputs": [],
   "source": [
    "def get_game_id(match): #Use case is TBD\n",
    "    \n",
    "    game_id = match['gameId']\n",
    "    return game_id"
   ]
  },
  {
   "cell_type": "code",
   "execution_count": 8,
   "metadata": {},
   "outputs": [],
   "source": [
    "def get_match_detail(game_id, region ='na1'):\n",
    "    \n",
    "    match_detail = watcher.match.by_id(region, game_id)\n",
    "    return match_detail"
   ]
  },
  {
   "cell_type": "code",
   "execution_count": 9,
   "metadata": {},
   "outputs": [],
   "source": [
    "def get_match_timeline(game_id, region='na1'):\n",
    "    \n",
    "    timeline = watcher.match.timeline_by_match(region, game_id)\n",
    "    return timeline"
   ]
  },
  {
   "cell_type": "code",
   "execution_count": 10,
   "metadata": {},
   "outputs": [],
   "source": [
    "def get_match_frames(timeline):\n",
    "    \n",
    "    timeline_frames = timeline['frames']\n",
    "    return timeline_frames"
   ]
  },
  {
   "cell_type": "code",
   "execution_count": 11,
   "metadata": {},
   "outputs": [],
   "source": [
    "def get_specific_match_frame(frames, index):\n",
    "\n",
    "    return frames[index]"
   ]
  },
  {
   "cell_type": "code",
   "execution_count": 12,
   "metadata": {},
   "outputs": [],
   "source": [
    "def get_match_positions(game_id, region=\"na1\"):\n",
    "    \n",
    "    a_dict = collections.defaultdict(list)\n",
    "    timeline = get_match_timeline(game_id)\n",
    "    timeline_frames = get_match_frames(timeline)\n",
    "    \n",
    "    for frame in timeline_frames:\n",
    "        get_frame_positions(frame, a_dict)\n",
    "                  \n",
    "    return a_dict"
   ]
  },
  {
   "cell_type": "code",
   "execution_count": 13,
   "metadata": {},
   "outputs": [],
   "source": [
    "def get_frame_positions(frame, frame_dict):\n",
    "    \n",
    "    for participant_num in frame['participantFrames']:\n",
    "            single_participant_frame = frame['participantFrames'][str(participant_num)]\n",
    "            if ('position' in single_participant_frame.keys()):\n",
    "                id_pos_pairing = {single_participant_frame['participantId']:single_participant_frame['position']}\n",
    "                frame_dict[frame['timestamp']].append(id_pos_pairing)\n",
    "    return frame_dict\n",
    "    "
   ]
  },
  {
   "cell_type": "code",
   "execution_count": 14,
   "metadata": {},
   "outputs": [],
   "source": [
    "def get_EXAMPLE_game_id():\n",
    "    \n",
    "    match_list = get_match_list()\n",
    "    match = match_list[0]\n",
    "    match_game_id = get_game_id(match)\n",
    "    \n",
    "    return match_game_id"
   ]
  },
  {
   "cell_type": "code",
   "execution_count": 15,
   "metadata": {},
   "outputs": [],
   "source": [
    "def jsonify_pos_dict(pos_dict):\n",
    "    \n",
    "    json_object = json.dumps(pos_dict, indent = 4)\n",
    "    return json_object"
   ]
  },
  {
   "cell_type": "code",
   "execution_count": 16,
   "metadata": {},
   "outputs": [],
   "source": [
    "def output_pos_dict_json(pos_dict, game_id): #To ensure proper formating, only output a_dict and NOT a 'jsonified' a_dict\n",
    "    \n",
    "    with open(f'{game_id}.json', 'w') as outfile:\n",
    "        json.dump(pos_dict, outfile)"
   ]
  },
  {
   "cell_type": "code",
   "execution_count": 17,
   "metadata": {},
   "outputs": [],
   "source": [
    "def get_coords_from_frame_obj(frame_dict, timestamp): #Will return the coordinates when given a frame_dictionary (a_dict-esque) and an index\n",
    "    \n",
    "    coords = []\n",
    "    for i in range(10):\n",
    "        x = tuple(frame_dict[timestamp][i][i+1].values())\n",
    "        coords.append(x)\n",
    "        \n",
    "    return coords"
   ]
  },
  {
   "cell_type": "code",
   "execution_count": 18,
   "metadata": {},
   "outputs": [],
   "source": [
    "def seperate_coords(coords):\n",
    "    \n",
    "    xs_t1 = [tup[0] for tup in coords[0:5]]\n",
    "    ys_t1 = [tup[1] for tup in coords[0:5]]\n",
    "    xs_t2 = [tup[0] for tup in coords[5:10]]\n",
    "    ys_t2 = [tup[1] for tup in coords[5:10]]\n",
    "    \n",
    "    return xs_t1, ys_t1, xs_t2, ys_t2"
   ]
  },
  {
   "cell_type": "code",
   "execution_count": 19,
   "metadata": {},
   "outputs": [],
   "source": [
    "def get_EXAMPLE_coords(): #Same functionality as above, just comes with preloaded frame_dictionary\n",
    "    \n",
    "    frame_dict = get_match_positions(get_EXAMPLE_game_id())\n",
    "    index = 0\n",
    "    coords = []\n",
    "    for i in range(10):\n",
    "        x = tuple(frame_dict[index][i][i+1].values())\n",
    "        coords.append(x)\n",
    "        \n",
    "    return coords"
   ]
  },
  {
   "cell_type": "code",
   "execution_count": null,
   "metadata": {},
   "outputs": [],
   "source": []
  },
  {
   "cell_type": "code",
   "execution_count": 20,
   "metadata": {},
   "outputs": [],
   "source": [
    "def get_game_json(game_id, region='na1'):\n",
    "    pass\n",
    "    "
   ]
  },
  {
   "cell_type": "code",
   "execution_count": 21,
   "metadata": {},
   "outputs": [],
   "source": [
    "#STATUS: CURRENTLY DESIGNING THE MOST ESSENTIAL METHODS FOR MY INTENDED WEBPAGE FUNCTIONALITY WITH AND HOW IT WOULD UTILIZE \n",
    "#        REST API. BASICALLY, USING MY DATA STRUCTURE DIAGRAM, I AM WANTING TO PACKAGE THE ESSENTIAL INFORMATION, CREATE A \n",
    "#        REST API WITH FLASK, THEN USE MY CLIENT SIDE REACT SCRIPTING THAT WILL READ THE JSON OFF THE REST API. CURRENTLY,\n",
    "#        JUST DESIGNING THE METHODS THAT WILL PROCESS THE NECCESSARY INFO. HOW I HAVE IT IMAGINED, "
   ]
  },
  {
   "cell_type": "code",
   "execution_count": 22,
   "metadata": {},
   "outputs": [],
   "source": [
    "g_id = get_EXAMPLE_game_id()\n",
    "m_det = get_match_detail(g_id)\n",
    "m_tim = get_match_timeline(g_id)"
   ]
  },
  {
   "cell_type": "code",
   "execution_count": 23,
   "metadata": {},
   "outputs": [
    {
     "name": "stdout",
     "output_type": "stream",
     "text": [
      "dict_keys(['participantFrames', 'events', 'timestamp'])\n"
     ]
    }
   ],
   "source": [
    "print(m_tim['frames'][1].keys())"
   ]
  },
  {
   "cell_type": "code",
   "execution_count": 32,
   "metadata": {},
   "outputs": [
    {
     "name": "stdout",
     "output_type": "stream",
     "text": [
      "dict_keys(['gameId', 'platformId', 'gameCreation', 'gameDuration', 'queueId', 'mapId', 'seasonId', 'gameVersion', 'gameMode', 'gameType', 'teams', 'participants', 'participantIdentities'])\n"
     ]
    }
   ],
   "source": [
    "m_det = get_match_detail(g_id)\n",
    "print(m_det.keys())"
   ]
  },
  {
   "cell_type": "code",
   "execution_count": 44,
   "metadata": {},
   "outputs": [
    {
     "name": "stdout",
     "output_type": "stream",
     "text": [
      "[{'teamId': 100, 'win': 'Win', 'firstBlood': True, 'firstTower': True, 'firstInhibitor': False, 'firstBaron': False, 'firstDragon': True, 'firstRiftHerald': True, 'towerKills': 4, 'inhibitorKills': 0, 'baronKills': 0, 'dragonKills': 2, 'vilemawKills': 0, 'riftHeraldKills': 1, 'dominionVictoryScore': 0, 'bans': []}, {'teamId': 200, 'win': 'Fail', 'firstBlood': False, 'firstTower': False, 'firstInhibitor': False, 'firstBaron': False, 'firstDragon': False, 'firstRiftHerald': False, 'towerKills': 0, 'inhibitorKills': 0, 'baronKills': 0, 'dragonKills': 0, 'vilemawKills': 0, 'riftHeraldKills': 0, 'dominionVictoryScore': 0, 'bans': []}]\n"
     ]
    }
   ],
   "source": [
    "print(m_det['teams'])"
   ]
  },
  {
   "cell_type": "code",
   "execution_count": 26,
   "metadata": {
    "scrolled": false
   },
   "outputs": [
    {
     "name": "stdout",
     "output_type": "stream",
     "text": [
      "participant frames:  {'1': {'participantId': 1, 'position': {'x': 7082, 'y': 9655}, 'currentGold': 1395, 'totalGold': 3885, 'level': 7, 'xp': 3341, 'minionsKilled': 1, 'jungleMinionsKilled': 58, 'dominionScore': 0, 'teamScore': 0}, '2': {'participantId': 2, 'position': {'x': 1486, 'y': 11015}, 'currentGold': 1562, 'totalGold': 2062, 'level': 8, 'xp': 4333, 'minionsKilled': 27, 'jungleMinionsKilled': 0, 'dominionScore': 0, 'teamScore': 0}, '3': {'participantId': 3, 'position': {'x': 7564, 'y': 8185}, 'currentGold': 960, 'totalGold': 3955, 'level': 8, 'xp': 4338, 'minionsKilled': 55, 'jungleMinionsKilled': 0, 'dominionScore': 0, 'teamScore': 0}, '4': {'participantId': 4, 'position': {'x': 11477, 'y': 1594}, 'currentGold': 213, 'totalGold': 2938, 'level': 6, 'xp': 2725, 'minionsKilled': 39, 'jungleMinionsKilled': 0, 'dominionScore': 0, 'teamScore': 0}, '5': {'participantId': 5, 'position': {'x': 8715, 'y': 1117}, 'currentGold': 503, 'totalGold': 2903, 'level': 6, 'xp': 2474, 'minionsKilled': 7, 'jungleMinionsKilled': 0, 'dominionScore': 0, 'teamScore': 0}, '6': {'participantId': 6, 'position': {'x': 7505, 'y': 9836}, 'currentGold': 395, 'totalGold': 2120, 'level': 5, 'xp': 2275, 'minionsKilled': 4, 'jungleMinionsKilled': 24, 'dominionScore': 0, 'teamScore': 0}, '7': {'participantId': 7, 'position': {'x': 9808, 'y': 9613}, 'currentGold': 214, 'totalGold': 2199, 'level': 6, 'xp': 2636, 'minionsKilled': 34, 'jungleMinionsKilled': 0, 'dominionScore': 0, 'teamScore': 0}, '8': {'participantId': 8, 'position': {'x': 12305, 'y': 5189}, 'currentGold': 302, 'totalGold': 2552, 'level': 6, 'xp': 2630, 'minionsKilled': 54, 'jungleMinionsKilled': 0, 'dominionScore': 0, 'teamScore': 0}, '9': {'participantId': 9, 'position': {'x': 1902, 'y': 12759}, 'currentGold': 2625, 'totalGold': 3125, 'level': 8, 'xp': 4974, 'minionsKilled': 79, 'jungleMinionsKilled': 0, 'dominionScore': 0, 'teamScore': 0}, '10': {'participantId': 10, 'position': {'x': 13148, 'y': 3154}, 'currentGold': 579, 'totalGold': 1929, 'level': 6, 'xp': 2577, 'minionsKilled': 19, 'jungleMinionsKilled': 0, 'dominionScore': 0, 'teamScore': 0}} \n",
      " \n",
      "\n",
      "events:  [{'type': 'ITEM_DESTROYED', 'timestamp': 540626, 'participantId': 10, 'itemId': 2010}, {'type': 'WARD_PLACED', 'timestamp': 544856, 'wardType': 'UNDEFINED', 'creatorId': 6}, {'type': 'WARD_PLACED', 'timestamp': 546705, 'wardType': 'UNDEFINED', 'creatorId': 6}, {'type': 'WARD_PLACED', 'timestamp': 548555, 'wardType': 'UNDEFINED', 'creatorId': 6}, {'type': 'WARD_PLACED', 'timestamp': 550406, 'wardType': 'UNDEFINED', 'creatorId': 6}, {'type': 'WARD_PLACED', 'timestamp': 552255, 'wardType': 'UNDEFINED', 'creatorId': 6}, {'type': 'WARD_PLACED', 'timestamp': 554106, 'wardType': 'UNDEFINED', 'creatorId': 6}, {'type': 'ITEM_DESTROYED', 'timestamp': 554337, 'participantId': 1, 'itemId': 1039}, {'type': 'WARD_PLACED', 'timestamp': 555955, 'wardType': 'UNDEFINED', 'creatorId': 6}, {'type': 'WARD_PLACED', 'timestamp': 557444, 'wardType': 'YELLOW_TRINKET', 'creatorId': 6}, {'type': 'WARD_PLACED', 'timestamp': 557807, 'wardType': 'UNDEFINED', 'creatorId': 6}, {'type': 'WARD_PLACED', 'timestamp': 559658, 'wardType': 'UNDEFINED', 'creatorId': 6}, {'type': 'ITEM_PURCHASED', 'timestamp': 560450, 'participantId': 4, 'itemId': 1037}, {'type': 'WARD_PLACED', 'timestamp': 561507, 'wardType': 'UNDEFINED', 'creatorId': 6}, {'type': 'SKILL_LEVEL_UP', 'timestamp': 561738, 'participantId': 1, 'skillSlot': 1, 'levelUpType': 'NORMAL'}, {'type': 'ITEM_PURCHASED', 'timestamp': 561938, 'participantId': 4, 'itemId': 2003}, {'type': 'ITEM_PURCHASED', 'timestamp': 562270, 'participantId': 8, 'itemId': 1037}, {'type': 'WARD_PLACED', 'timestamp': 563359, 'wardType': 'UNDEFINED', 'creatorId': 6}, {'type': 'ITEM_PURCHASED', 'timestamp': 563425, 'participantId': 8, 'itemId': 1001}, {'type': 'WARD_PLACED', 'timestamp': 563624, 'wardType': 'UNDEFINED', 'creatorId': 6}, {'type': 'ITEM_PURCHASED', 'timestamp': 564846, 'participantId': 8, 'itemId': 2031}, {'type': 'WARD_PLACED', 'timestamp': 565209, 'wardType': 'UNDEFINED', 'creatorId': 6}, {'type': 'WARD_PLACED', 'timestamp': 565474, 'wardType': 'UNDEFINED', 'creatorId': 6}, {'type': 'ITEM_PURCHASED', 'timestamp': 565474, 'participantId': 8, 'itemId': 2055}, {'type': 'WARD_PLACED', 'timestamp': 567061, 'wardType': 'UNDEFINED', 'creatorId': 6}, {'type': 'WARD_PLACED', 'timestamp': 567326, 'wardType': 'UNDEFINED', 'creatorId': 6}, {'type': 'WARD_PLACED', 'timestamp': 568912, 'wardType': 'UNDEFINED', 'creatorId': 6}, {'type': 'ITEM_PURCHASED', 'timestamp': 568978, 'participantId': 5, 'itemId': 3067}, {'type': 'ITEM_DESTROYED', 'timestamp': 568978, 'participantId': 5, 'itemId': 1028}, {'type': 'WARD_PLACED', 'timestamp': 569176, 'wardType': 'UNDEFINED', 'creatorId': 6}, {'type': 'ITEM_PURCHASED', 'timestamp': 570498, 'participantId': 5, 'itemId': 3364}, {'type': 'ITEM_DESTROYED', 'timestamp': 570498, 'participantId': 5, 'itemId': 3340}, {'type': 'WARD_PLACED', 'timestamp': 571026, 'wardType': 'UNDEFINED', 'creatorId': 6}, {'type': 'ITEM_PURCHASED', 'timestamp': 571522, 'participantId': 5, 'itemId': 2055}, {'type': 'WARD_PLACED', 'timestamp': 572876, 'wardType': 'UNDEFINED', 'creatorId': 6}, {'type': 'WARD_PLACED', 'timestamp': 574726, 'wardType': 'UNDEFINED', 'creatorId': 6}, {'type': 'WARD_PLACED', 'timestamp': 576575, 'wardType': 'UNDEFINED', 'creatorId': 6}, {'type': 'WARD_PLACED', 'timestamp': 578295, 'wardType': 'YELLOW_TRINKET', 'creatorId': 2}, {'type': 'WARD_PLACED', 'timestamp': 578428, 'wardType': 'UNDEFINED', 'creatorId': 6}, {'type': 'WARD_PLACED', 'timestamp': 580278, 'wardType': 'UNDEFINED', 'creatorId': 6}, {'type': 'WARD_PLACED', 'timestamp': 582127, 'wardType': 'UNDEFINED', 'creatorId': 6}, {'type': 'SKILL_LEVEL_UP', 'timestamp': 583682, 'participantId': 10, 'skillSlot': 4, 'levelUpType': 'NORMAL'}, {'type': 'WARD_PLACED', 'timestamp': 583979, 'wardType': 'UNDEFINED', 'creatorId': 6}, {'type': 'WARD_PLACED', 'timestamp': 585828, 'wardType': 'UNDEFINED', 'creatorId': 6}, {'type': 'SKILL_LEVEL_UP', 'timestamp': 586654, 'participantId': 3, 'skillSlot': 1, 'levelUpType': 'NORMAL'}, {'type': 'WARD_PLACED', 'timestamp': 587678, 'wardType': 'UNDEFINED', 'creatorId': 6}, {'type': 'WARD_PLACED', 'timestamp': 589528, 'wardType': 'UNDEFINED', 'creatorId': 6}, {'type': 'WARD_PLACED', 'timestamp': 591379, 'wardType': 'UNDEFINED', 'creatorId': 6}, {'type': 'WARD_PLACED', 'timestamp': 595079, 'wardType': 'UNDEFINED', 'creatorId': 6}, {'type': 'WARD_PLACED', 'timestamp': 596929, 'wardType': 'UNDEFINED', 'creatorId': 6}, {'type': 'WARD_PLACED', 'timestamp': 598780, 'wardType': 'UNDEFINED', 'creatorId': 6}] \n",
      " \n",
      "\n",
      "time:  600171 \n",
      " \n",
      "\n"
     ]
    }
   ],
   "source": [
    "print('participant frames: ', m_tim['frames'][10]['participantFrames'], '\\n \\n')\n",
    "print('events: ', m_tim['frames'][10]['events'], '\\n \\n')\n",
    "print('time: ', m_tim['frames'][10]['timestamp'], '\\n \\n')"
   ]
  },
  {
   "cell_type": "code",
   "execution_count": 30,
   "metadata": {},
   "outputs": [
    {
     "name": "stdout",
     "output_type": "stream",
     "text": [
      "SKILL_LEVEL_UP\n",
      "ITEM_PURCHASED\n",
      "ITEM_PURCHASED\n",
      "ITEM_PURCHASED\n",
      "SKILL_LEVEL_UP\n",
      "SKILL_LEVEL_UP\n",
      "ITEM_PURCHASED\n",
      "ITEM_PURCHASED\n",
      "ITEM_PURCHASED\n",
      "ITEM_PURCHASED\n",
      "SKILL_LEVEL_UP\n",
      "ITEM_PURCHASED\n",
      "ITEM_PURCHASED\n",
      "ITEM_PURCHASED\n",
      "ITEM_PURCHASED\n",
      "ITEM_PURCHASED\n",
      "ITEM_PURCHASED\n",
      "ITEM_PURCHASED\n",
      "ITEM_PURCHASED\n",
      "ITEM_PURCHASED\n",
      "SKILL_LEVEL_UP\n",
      "SKILL_LEVEL_UP\n",
      "ITEM_PURCHASED\n",
      "ITEM_PURCHASED\n",
      "ITEM_PURCHASED\n",
      "SKILL_LEVEL_UP\n",
      "ITEM_PURCHASED\n",
      "ITEM_PURCHASED\n",
      "ITEM_PURCHASED\n",
      "SKILL_LEVEL_UP\n",
      "ITEM_PURCHASED\n",
      "ITEM_PURCHASED\n",
      "ITEM_PURCHASED\n",
      "ITEM_PURCHASED\n",
      "WARD_PLACED\n",
      "ITEM_PURCHASED\n",
      "ITEM_PURCHASED\n",
      "ITEM_PURCHASED\n",
      "ITEM_DESTROYED\n",
      "ITEM_DESTROYED\n",
      "WARD_PLACED\n",
      "SKILL_LEVEL_UP\n",
      "ITEM_DESTROYED\n",
      "ITEM_DESTROYED\n",
      "WARD_PLACED\n",
      "WARD_PLACED\n",
      "ITEM_DESTROYED\n",
      "SKILL_LEVEL_UP\n",
      "SKILL_LEVEL_UP\n",
      "WARD_PLACED\n",
      "SKILL_LEVEL_UP\n",
      "WARD_PLACED\n",
      "WARD_PLACED\n",
      "WARD_PLACED\n",
      "WARD_PLACED\n",
      "WARD_PLACED\n",
      "WARD_PLACED\n",
      "ITEM_DESTROYED\n",
      "WARD_PLACED\n",
      "WARD_PLACED\n",
      "WARD_PLACED\n",
      "WARD_PLACED\n",
      "SKILL_LEVEL_UP\n",
      "WARD_PLACED\n",
      "WARD_PLACED\n",
      "ITEM_DESTROYED\n",
      "WARD_PLACED\n",
      "WARD_PLACED\n",
      "WARD_PLACED\n",
      "ITEM_DESTROYED\n",
      "SKILL_LEVEL_UP\n",
      "WARD_PLACED\n",
      "WARD_PLACED\n",
      "SKILL_LEVEL_UP\n",
      "WARD_PLACED\n",
      "WARD_PLACED\n",
      "WARD_PLACED\n",
      "WARD_PLACED\n",
      "WARD_PLACED\n",
      "WARD_PLACED\n",
      "WARD_PLACED\n",
      "WARD_PLACED\n",
      "WARD_PLACED\n",
      "WARD_PLACED\n",
      "ITEM_DESTROYED\n",
      "WARD_PLACED\n",
      "WARD_PLACED\n",
      "SKILL_LEVEL_UP\n",
      "WARD_PLACED\n",
      "WARD_PLACED\n",
      "WARD_PLACED\n",
      "WARD_PLACED\n",
      "WARD_PLACED\n",
      "WARD_PLACED\n",
      "WARD_PLACED\n",
      "SKILL_LEVEL_UP\n",
      "WARD_PLACED\n",
      "WARD_PLACED\n",
      "WARD_PLACED\n",
      "WARD_PLACED\n",
      "ITEM_DESTROYED\n",
      "WARD_PLACED\n",
      "SKILL_LEVEL_UP\n",
      "WARD_PLACED\n",
      "SKILL_LEVEL_UP\n",
      "SKILL_LEVEL_UP\n",
      "WARD_PLACED\n",
      "WARD_PLACED\n",
      "WARD_PLACED\n",
      "SKILL_LEVEL_UP\n",
      "SKILL_LEVEL_UP\n",
      "WARD_PLACED\n",
      "WARD_PLACED\n",
      "WARD_PLACED\n",
      "WARD_PLACED\n",
      "WARD_PLACED\n",
      "WARD_PLACED\n",
      "SKILL_LEVEL_UP\n",
      "WARD_PLACED\n",
      "WARD_PLACED\n",
      "SKILL_LEVEL_UP\n",
      "CHAMPION_KILL\n",
      "SKILL_LEVEL_UP\n",
      "ITEM_PURCHASED\n",
      "CHAMPION_KILL\n",
      "WARD_PLACED\n",
      "ITEM_PURCHASED\n",
      "WARD_PLACED\n",
      "CHAMPION_KILL\n",
      "SKILL_LEVEL_UP\n",
      "WARD_PLACED\n",
      "SKILL_LEVEL_UP\n",
      "WARD_PLACED\n",
      "WARD_PLACED\n",
      "ITEM_PURCHASED\n",
      "WARD_PLACED\n",
      "ITEM_PURCHASED\n",
      "ITEM_PURCHASED\n",
      "WARD_PLACED\n",
      "SKILL_LEVEL_UP\n",
      "WARD_PLACED\n",
      "ITEM_PURCHASED\n",
      "WARD_PLACED\n",
      "WARD_PLACED\n",
      "WARD_PLACED\n",
      "WARD_PLACED\n",
      "ITEM_DESTROYED\n",
      "WARD_PLACED\n",
      "SKILL_LEVEL_UP\n",
      "WARD_PLACED\n",
      "WARD_PLACED\n",
      "WARD_PLACED\n",
      "WARD_PLACED\n",
      "WARD_PLACED\n",
      "SKILL_LEVEL_UP\n",
      "WARD_PLACED\n",
      "WARD_PLACED\n",
      "WARD_PLACED\n",
      "ITEM_DESTROYED\n",
      "WARD_PLACED\n",
      "CHAMPION_KILL\n",
      "SKILL_LEVEL_UP\n",
      "WARD_PLACED\n",
      "WARD_PLACED\n",
      "CHAMPION_KILL\n",
      "ITEM_DESTROYED\n",
      "ITEM_DESTROYED\n",
      "ITEM_DESTROYED\n",
      "SKILL_LEVEL_UP\n",
      "WARD_PLACED\n",
      "SKILL_LEVEL_UP\n",
      "SKILL_LEVEL_UP\n",
      "SKILL_LEVEL_UP\n",
      "WARD_PLACED\n",
      "SKILL_LEVEL_UP\n",
      "SKILL_LEVEL_UP\n",
      "SKILL_LEVEL_UP\n",
      "SKILL_LEVEL_UP\n",
      "ITEM_DESTROYED\n",
      "SKILL_LEVEL_UP\n",
      "WARD_PLACED\n",
      "SKILL_LEVEL_UP\n",
      "ITEM_PURCHASED\n",
      "ITEM_PURCHASED\n",
      "ITEM_PURCHASED\n",
      "ITEM_PURCHASED\n",
      "ITEM_PURCHASED\n",
      "ITEM_PURCHASED\n",
      "ITEM_SOLD\n",
      "ITEM_PURCHASED\n",
      "SKILL_LEVEL_UP\n",
      "ITEM_PURCHASED\n",
      "ITEM_DESTROYED\n",
      "SKILL_LEVEL_UP\n",
      "SKILL_LEVEL_UP\n",
      "SKILL_LEVEL_UP\n",
      "WARD_PLACED\n",
      "ITEM_PURCHASED\n",
      "SKILL_LEVEL_UP\n",
      "ITEM_DESTROYED\n",
      "WARD_PLACED\n",
      "WARD_PLACED\n",
      "WARD_PLACED\n",
      "WARD_PLACED\n",
      "CHAMPION_KILL\n",
      "SKILL_LEVEL_UP\n",
      "ITEM_DESTROYED\n",
      "SKILL_LEVEL_UP\n",
      "WARD_PLACED\n",
      "ITEM_DESTROYED\n",
      "SKILL_LEVEL_UP\n",
      "SKILL_LEVEL_UP\n",
      "ITEM_PURCHASED\n",
      "ITEM_PURCHASED\n",
      "SKILL_LEVEL_UP\n",
      "ITEM_PURCHASED\n",
      "ITEM_DESTROYED\n",
      "ITEM_PURCHASED\n",
      "ELITE_MONSTER_KILL\n",
      "SKILL_LEVEL_UP\n",
      "ITEM_DESTROYED\n",
      "WARD_PLACED\n",
      "SKILL_LEVEL_UP\n",
      "SKILL_LEVEL_UP\n",
      "WARD_PLACED\n",
      "WARD_PLACED\n",
      "WARD_PLACED\n",
      "CHAMPION_KILL\n",
      "SKILL_LEVEL_UP\n",
      "WARD_KILL\n",
      "SKILL_LEVEL_UP\n",
      "WARD_PLACED\n",
      "WARD_PLACED\n",
      "WARD_PLACED\n",
      "SKILL_LEVEL_UP\n",
      "ITEM_SOLD\n",
      "WARD_PLACED\n",
      "WARD_PLACED\n",
      "SKILL_LEVEL_UP\n",
      "WARD_PLACED\n",
      "WARD_PLACED\n",
      "CHAMPION_KILL\n",
      "ITEM_PURCHASED\n",
      "ITEM_PURCHASED\n",
      "ITEM_PURCHASED\n",
      "SKILL_LEVEL_UP\n",
      "ITEM_DESTROYED\n",
      "SKILL_LEVEL_UP\n",
      "SKILL_LEVEL_UP\n",
      "SKILL_LEVEL_UP\n",
      "SKILL_LEVEL_UP\n",
      "WARD_PLACED\n",
      "ITEM_DESTROYED\n",
      "WARD_PLACED\n",
      "WARD_PLACED\n",
      "WARD_PLACED\n",
      "WARD_PLACED\n",
      "WARD_PLACED\n",
      "WARD_PLACED\n",
      "ITEM_DESTROYED\n",
      "WARD_PLACED\n",
      "WARD_PLACED\n",
      "WARD_PLACED\n",
      "WARD_PLACED\n",
      "ITEM_PURCHASED\n",
      "WARD_PLACED\n",
      "SKILL_LEVEL_UP\n",
      "ITEM_PURCHASED\n",
      "ITEM_PURCHASED\n",
      "WARD_PLACED\n",
      "ITEM_PURCHASED\n",
      "WARD_PLACED\n",
      "ITEM_PURCHASED\n",
      "WARD_PLACED\n",
      "WARD_PLACED\n",
      "ITEM_PURCHASED\n",
      "WARD_PLACED\n",
      "WARD_PLACED\n",
      "WARD_PLACED\n",
      "ITEM_PURCHASED\n",
      "ITEM_DESTROYED\n",
      "WARD_PLACED\n",
      "ITEM_PURCHASED\n",
      "ITEM_DESTROYED\n",
      "WARD_PLACED\n",
      "ITEM_PURCHASED\n",
      "WARD_PLACED\n",
      "WARD_PLACED\n",
      "WARD_PLACED\n",
      "WARD_PLACED\n",
      "WARD_PLACED\n",
      "WARD_PLACED\n",
      "WARD_PLACED\n",
      "SKILL_LEVEL_UP\n",
      "WARD_PLACED\n",
      "WARD_PLACED\n",
      "SKILL_LEVEL_UP\n",
      "WARD_PLACED\n",
      "WARD_PLACED\n",
      "WARD_PLACED\n",
      "WARD_PLACED\n",
      "WARD_PLACED\n",
      "WARD_PLACED\n",
      "WARD_PLACED\n",
      "WARD_PLACED\n",
      "ITEM_DESTROYED\n",
      "WARD_PLACED\n",
      "WARD_PLACED\n",
      "WARD_PLACED\n",
      "WARD_PLACED\n",
      "CHAMPION_KILL\n",
      "ITEM_PURCHASED\n",
      "ITEM_PURCHASED\n",
      "WARD_PLACED\n",
      "ITEM_PURCHASED\n",
      "WARD_PLACED\n",
      "ITEM_PURCHASED\n",
      "WARD_PLACED\n",
      "ITEM_DESTROYED\n",
      "WARD_PLACED\n",
      "WARD_PLACED\n",
      "ITEM_PURCHASED\n",
      "WARD_PLACED\n",
      "WARD_PLACED\n",
      "WARD_PLACED\n",
      "ITEM_PURCHASED\n",
      "WARD_PLACED\n",
      "WARD_PLACED\n",
      "ITEM_DESTROYED\n",
      "SKILL_LEVEL_UP\n",
      "WARD_PLACED\n",
      "WARD_KILL\n",
      "CHAMPION_KILL\n",
      "WARD_PLACED\n",
      "ITEM_PURCHASED\n",
      "ITEM_DESTROYED\n",
      "ITEM_DESTROYED\n",
      "ITEM_DESTROYED\n",
      "SKILL_LEVEL_UP\n",
      "SKILL_LEVEL_UP\n",
      "SKILL_LEVEL_UP\n",
      "ELITE_MONSTER_KILL\n",
      "ITEM_DESTROYED\n",
      "ITEM_DESTROYED\n",
      "CHAMPION_KILL\n",
      "CHAMPION_KILL\n",
      "SKILL_LEVEL_UP\n",
      "ITEM_PURCHASED\n",
      "ITEM_DESTROYED\n",
      "ITEM_PURCHASED\n",
      "ITEM_DESTROYED\n",
      "CHAMPION_KILL\n",
      "SKILL_LEVEL_UP\n",
      "SKILL_LEVEL_UP\n",
      "ITEM_PURCHASED\n",
      "WARD_PLACED\n",
      "SKILL_LEVEL_UP\n",
      "ITEM_PURCHASED\n",
      "ITEM_PURCHASED\n",
      "WARD_PLACED\n",
      "SKILL_LEVEL_UP\n",
      "CHAMPION_KILL\n",
      "WARD_PLACED\n",
      "SKILL_LEVEL_UP\n",
      "SKILL_LEVEL_UP\n",
      "SKILL_LEVEL_UP\n",
      "ITEM_DESTROYED\n",
      "SKILL_LEVEL_UP\n",
      "WARD_PLACED\n",
      "BUILDING_KILL\n",
      "CHAMPION_KILL\n",
      "WARD_KILL\n",
      "ITEM_PURCHASED\n",
      "ITEM_DESTROYED\n",
      "WARD_PLACED\n",
      "BUILDING_KILL\n",
      "WARD_PLACED\n",
      "ELITE_MONSTER_KILL\n",
      "WARD_PLACED\n",
      "WARD_PLACED\n",
      "WARD_KILL\n",
      "WARD_KILL\n",
      "WARD_PLACED\n",
      "SKILL_LEVEL_UP\n",
      "CHAMPION_KILL\n",
      "SKILL_LEVEL_UP\n",
      "CHAMPION_KILL\n",
      "CHAMPION_KILL\n",
      "ITEM_PURCHASED\n",
      "ITEM_DESTROYED\n",
      "ITEM_DESTROYED\n",
      "ITEM_DESTROYED\n",
      "ITEM_DESTROYED\n",
      "ITEM_PURCHASED\n",
      "ITEM_DESTROYED\n",
      "ITEM_DESTROYED\n",
      "CHAMPION_KILL\n",
      "ITEM_PURCHASED\n",
      "ITEM_DESTROYED\n",
      "ITEM_PURCHASED\n",
      "ITEM_PURCHASED\n",
      "ITEM_PURCHASED\n",
      "ITEM_PURCHASED\n",
      "ITEM_DESTROYED\n",
      "ITEM_PURCHASED\n",
      "ITEM_DESTROYED\n",
      "WARD_PLACED\n",
      "SKILL_LEVEL_UP\n",
      "WARD_PLACED\n",
      "WARD_PLACED\n",
      "ITEM_DESTROYED\n",
      "WARD_PLACED\n",
      "ITEM_DESTROYED\n",
      "WARD_PLACED\n",
      "CHAMPION_KILL\n",
      "SKILL_LEVEL_UP\n",
      "ITEM_PURCHASED\n",
      "WARD_PLACED\n",
      "WARD_PLACED\n",
      "BUILDING_KILL\n",
      "WARD_PLACED\n",
      "CHAMPION_KILL\n",
      "SKILL_LEVEL_UP\n",
      "ITEM_PURCHASED\n",
      "ITEM_DESTROYED\n",
      "ITEM_PURCHASED\n",
      "ITEM_PURCHASED\n",
      "SKILL_LEVEL_UP\n",
      "ITEM_PURCHASED\n",
      "WARD_PLACED\n",
      "ITEM_PURCHASED\n",
      "ITEM_DESTROYED\n",
      "ITEM_DESTROYED\n",
      "ITEM_PURCHASED\n",
      "WARD_PLACED\n",
      "WARD_PLACED\n",
      "SKILL_LEVEL_UP\n",
      "ITEM_PURCHASED\n",
      "WARD_PLACED\n",
      "ITEM_PURCHASED\n",
      "ITEM_PURCHASED\n",
      "ITEM_DESTROYED\n",
      "ITEM_DESTROYED\n",
      "WARD_PLACED\n",
      "ITEM_PURCHASED\n",
      "WARD_PLACED\n",
      "WARD_PLACED\n",
      "WARD_PLACED\n",
      "SKILL_LEVEL_UP\n",
      "WARD_PLACED\n",
      "WARD_PLACED\n",
      "WARD_PLACED\n",
      "CHAMPION_KILL\n",
      "WARD_PLACED\n",
      "ITEM_DESTROYED\n",
      "WARD_PLACED\n",
      "WARD_PLACED\n",
      "WARD_PLACED\n",
      "WARD_PLACED\n",
      "ITEM_PURCHASED\n",
      "ITEM_DESTROYED\n",
      "ITEM_DESTROYED\n",
      "ITEM_DESTROYED\n",
      "WARD_PLACED\n",
      "SKILL_LEVEL_UP\n",
      "WARD_PLACED\n",
      "CHAMPION_KILL\n",
      "WARD_KILL\n",
      "WARD_PLACED\n",
      "WARD_PLACED\n",
      "WARD_PLACED\n",
      "WARD_PLACED\n",
      "WARD_PLACED\n",
      "WARD_PLACED\n",
      "WARD_PLACED\n",
      "WARD_PLACED\n",
      "WARD_PLACED\n",
      "BUILDING_KILL\n",
      "WARD_PLACED\n",
      "WARD_PLACED\n",
      "WARD_PLACED\n",
      "SKILL_LEVEL_UP\n",
      "WARD_PLACED\n",
      "WARD_PLACED\n",
      "WARD_PLACED\n",
      "WARD_PLACED\n",
      "WARD_PLACED\n",
      "WARD_PLACED\n",
      "WARD_PLACED\n",
      "CHAMPION_KILL\n",
      "CHAMPION_KILL\n",
      "ITEM_PURCHASED\n",
      "ITEM_DESTROYED\n",
      "ITEM_DESTROYED\n",
      "ITEM_DESTROYED\n",
      "ITEM_PURCHASED\n",
      "ITEM_DESTROYED\n",
      "CHAMPION_KILL\n",
      "ITEM_UNDO\n",
      "ITEM_PURCHASED\n",
      "ITEM_DESTROYED\n",
      "ITEM_PURCHASED\n",
      "ITEM_PURCHASED\n"
     ]
    }
   ],
   "source": [
    "for frame in m_tim['frames']:\n",
    "    for event in frame['events']:\n",
    "        print(event['type'])"
   ]
  },
  {
   "cell_type": "code",
   "execution_count": 29,
   "metadata": {},
   "outputs": [
    {
     "name": "stdout",
     "output_type": "stream",
     "text": [
      "{'type': 'CHAMPION_KILL', 'timestamp': 201722, 'position': {'x': 3389, 'y': 11022}, 'killerId': 1, 'victimId': 6, 'assistingParticipantIds': [3]}\n",
      "{'type': 'CHAMPION_KILL', 'timestamp': 209490, 'position': {'x': 13506, 'y': 3465}, 'killerId': 4, 'victimId': 10, 'assistingParticipantIds': [5]}\n",
      "{'type': 'CHAMPION_KILL', 'timestamp': 212827, 'position': {'x': 13977, 'y': 4366}, 'killerId': 5, 'victimId': 8, 'assistingParticipantIds': [4]}\n",
      "{'type': 'CHAMPION_KILL', 'timestamp': 249839, 'position': {'x': 8340, 'y': 7992}, 'killerId': 1, 'victimId': 7, 'assistingParticipantIds': [3]}\n",
      "{'type': 'CHAMPION_KILL', 'timestamp': 275879, 'position': {'x': 8861, 'y': 7695}, 'killerId': 3, 'victimId': 6, 'assistingParticipantIds': [1]}\n",
      "{'type': 'CHAMPION_KILL', 'timestamp': 405202, 'position': {'x': 13352, 'y': 3112}, 'killerId': 3, 'victimId': 10, 'assistingParticipantIds': [1, 4, 5]}\n",
      "{'type': 'CHAMPION_KILL', 'timestamp': 467574, 'position': {'x': 7095, 'y': 7905}, 'killerId': 3, 'victimId': 7, 'assistingParticipantIds': []}\n",
      "{'type': 'CHAMPION_KILL', 'timestamp': 493779, 'position': {'x': 8088, 'y': 7662}, 'killerId': 1, 'victimId': 6, 'assistingParticipantIds': [3]}\n",
      "{'type': 'CHAMPION_KILL', 'timestamp': 608267, 'position': {'x': 9277, 'y': 9830}, 'killerId': 3, 'victimId': 6, 'assistingParticipantIds': [1]}\n",
      "{'type': 'CHAMPION_KILL', 'timestamp': 641378, 'position': {'x': 9336, 'y': 8626}, 'killerId': 3, 'victimId': 7, 'assistingParticipantIds': []}\n",
      "{'type': 'CHAMPION_KILL', 'timestamp': 666102, 'position': {'x': 13914, 'y': 3797}, 'killerId': 4, 'victimId': 8, 'assistingParticipantIds': [5]}\n",
      "{'type': 'CHAMPION_KILL', 'timestamp': 670961, 'position': {'x': 13568, 'y': 4555}, 'killerId': 5, 'victimId': 10, 'assistingParticipantIds': [4]}\n",
      "{'type': 'CHAMPION_KILL', 'timestamp': 677139, 'position': {'x': 2125, 'y': 13064}, 'killerId': 1, 'victimId': 9, 'assistingParticipantIds': [2]}\n",
      "{'type': 'CHAMPION_KILL', 'timestamp': 728323, 'position': {'x': 8128, 'y': 7909}, 'killerId': 3, 'victimId': 7, 'assistingParticipantIds': []}\n",
      "{'type': 'CHAMPION_KILL', 'timestamp': 750330, 'position': {'x': 1236, 'y': 11026}, 'killerId': 9, 'victimId': 2, 'assistingParticipantIds': [6]}\n",
      "{'type': 'CHAMPION_KILL', 'timestamp': 798379, 'position': {'x': 11430, 'y': 4455}, 'killerId': 5, 'victimId': 6, 'assistingParticipantIds': [3, 4]}\n",
      "{'type': 'CHAMPION_KILL', 'timestamp': 804225, 'position': {'x': 11891, 'y': 3469}, 'killerId': 10, 'victimId': 3, 'assistingParticipantIds': [7, 8]}\n",
      "{'type': 'CHAMPION_KILL', 'timestamp': 804324, 'position': {'x': 12119, 'y': 3288}, 'killerId': 5, 'victimId': 10, 'assistingParticipantIds': [1, 3, 4]}\n",
      "{'type': 'CHAMPION_KILL', 'timestamp': 810303, 'position': {'x': 9931, 'y': 5891}, 'killerId': 1, 'victimId': 7, 'assistingParticipantIds': []}\n",
      "{'type': 'CHAMPION_KILL', 'timestamp': 839941, 'position': {'x': 14121, 'y': 4642}, 'killerId': 5, 'victimId': 8, 'assistingParticipantIds': []}\n",
      "{'type': 'CHAMPION_KILL', 'timestamp': 854678, 'position': {'x': 11779, 'y': 5297}, 'killerId': 4, 'victimId': 6, 'assistingParticipantIds': [1, 5]}\n",
      "{'type': 'CHAMPION_KILL', 'timestamp': 897795, 'position': {'x': 8138, 'y': 9958}, 'killerId': 3, 'victimId': 6, 'assistingParticipantIds': []}\n",
      "{'type': 'CHAMPION_KILL', 'timestamp': 928762, 'position': {'x': 4562, 'y': 13873}, 'killerId': 3, 'victimId': 9, 'assistingParticipantIds': []}\n",
      "{'type': 'CHAMPION_KILL', 'timestamp': 954336, 'position': {'x': 8175, 'y': 13483}, 'killerId': 3, 'victimId': 6, 'assistingParticipantIds': [1]}\n",
      "{'type': 'CHAMPION_KILL', 'timestamp': 955194, 'position': {'x': 12216, 'y': 2387}, 'killerId': 4, 'victimId': 10, 'assistingParticipantIds': [5]}\n",
      "{'type': 'CHAMPION_KILL', 'timestamp': 964511, 'position': {'x': 13175, 'y': 2031}, 'killerId': 4, 'victimId': 8, 'assistingParticipantIds': [5]}\n"
     ]
    }
   ],
   "source": [
    "#print('events: ', m_tim['frames'][10]['events'], '\\n \\n')\n",
    "\n",
    "for frame in m_tim['frames']:\n",
    "    for event in frame['events']:\n",
    "        if(event['type'] == 'CHAMPION_KILL'):\n",
    "            print(event)"
   ]
  },
  {
   "cell_type": "markdown",
   "metadata": {},
   "source": [
    "<img src=\"../reference images/match_history_keys.jpg\">\n",
    "\n",
    "> Note: every match history object has 4 keys. The \"get_acc_matches(x,y)\" function will only return values corresponding to the 'matches' key."
   ]
  },
  {
   "cell_type": "markdown",
   "metadata": {},
   "source": [
    "<img src=\"../reference images/match_example.jpg\">\n",
    "\n",
    "> Note: every individual match, from a match_list object, has these parameters."
   ]
  },
  {
   "cell_type": "markdown",
   "metadata": {},
   "source": [
    "<img src=\"../reference images/timeline_example.jpg\"> \n",
    "\n",
    "> Every timeline object has the above keys"
   ]
  },
  {
   "cell_type": "markdown",
   "metadata": {},
   "source": [
    "<img src=\"../reference images/timeline_frames_example.jpg\"> \n",
    "\n",
    "> The timeline's \"frames\" component does not have any keys because timeline['frames'] is a list data structure"
   ]
  },
  {
   "cell_type": "markdown",
   "metadata": {},
   "source": [
    "<img src=\"../reference images/timeline_frames_working_example.jpg\">\n",
    "\n",
    "> Each individual frame, however, is a dictionary object and therefore contains the above keys."
   ]
  },
  {
   "cell_type": "markdown",
   "metadata": {},
   "source": [
    "<img src=\"../reference images/participant_frames_example.jpg\">\n",
    "\n",
    "> Every \"participantFrames\" object contains information pertaining to each summoner during that specific frame. "
   ]
  },
  {
   "cell_type": "markdown",
   "metadata": {},
   "source": [
    "<img src=\"../reference images/single_participant_frame_example.jpg\">\n",
    "\n",
    "> This is the type of information stored in a single participant's frame. Notice how it is contained in a dictionary, so every parameter stored here can be used as a dictionary key."
   ]
  },
  {
   "cell_type": "markdown",
   "metadata": {},
   "source": [
    "<img src=\"../reference images/frame_intervals_example.jpg\">\n",
    "\n",
    "> Note, when trying to access the different moments of a game, be aware of the fact that each game is different in length, so they will inherently have different quantities of frames. But also, the API data does not capture information at equidistant frame intervals. Probably need to use a \".keys()\" addition if you want to access a specific frame that is return from \"get_match_frames(x,y)."
   ]
  },
  {
   "cell_type": "markdown",
   "metadata": {},
   "source": [
    "<img src=\"../reference images/pos_structure_example.jpg\">\n",
    "\n",
    "> Here is an example of how you would access each layer of the a_dict data structure that is returned by \"get_match_positions\".\n",
    "            \n",
    "    "
   ]
  },
  {
   "cell_type": "markdown",
   "metadata": {},
   "source": [
    "<img src=\"../reference images/size_of_map_1.jpg\"> \n",
    "\n",
    "> For reference, it is estimated that the size of the League of Legends map is about 16,000 'units'. I don't exactly know what that unit means, but I am going to use these parameters to set the bounardies for the matplot map. Additionally, I am operating under the assumption that the League of Legends map is a square."
   ]
  },
  {
   "cell_type": "markdown",
   "metadata": {},
   "source": [
    "<img src=\"../reference images/timestamp_issue.jpg\">\n",
    "\n",
    "> It is probably a good idea to have a seperate handler/data organizer for the match's events. This is because your current data structure uses the timestamps as keys for the various states of the game. However, due to the nature of events, they do not happen syncronously at exact timestamp. Instead, each events kind of has a unique timestamp that pertains to that specific event."
   ]
  },
  {
   "cell_type": "markdown",
   "metadata": {},
   "source": [
    "<img src=\"../reference images/riot api data structure.png\">"
   ]
  },
  {
   "cell_type": "markdown",
   "metadata": {},
   "source": [
    "<img src=\"../reference images/data_structure_1.jpg\">\n",
    "\n",
    "> Note: this is the updated data structure. Note how each match not only contains timestamp information, but also game summary and events are contained within each match as well. "
   ]
  },
  {
   "cell_type": "markdown",
   "metadata": {},
   "source": [
    "<img src=\"../reference images/match_detail_keys.jpg\">\n",
    "\n",
    "> Each match detail object contains the above keys"
   ]
  },
  {
   "cell_type": "markdown",
   "metadata": {},
   "source": [
    "<img src=\"../reference images/last_frame_timeline.jpg\"> \n",
    "\n",
    "> Note: the very last frame of every game's timeline does not contain the 'position' field, so you need to include a flow mechanism to handle the last frame of every game."
   ]
  },
  {
   "cell_type": "markdown",
   "metadata": {},
   "source": [
    "<img src=\"../reference images/data_struc_events.jpg\">\n",
    "\n",
    "> Note, this is the current setup for the 'events' side of your game data structure. Each event is accessed with its own key. The key is just sequential integers. Additionally, the events are stored in chronlogical order. I didn't use the timestamp as the key for each event simply due to the lack of uniformity in the timestamps and how they are randomly dispersed throughout the game."
   ]
  },
  {
   "attachments": {},
   "cell_type": "markdown",
   "metadata": {},
   "source": [
    "<img src=\"../reference images/constants_doc.jpg\">\n",
    "\n",
    "> Note, riot games has documentation of all of their constants. For example, above are some of the values for mapId. And these constants are all available as json webpages. The link for all of their constants documentation is here: http://static.developer.riotgames.com/docs/lol/maps.json"
   ]
  },
  {
   "cell_type": "code",
   "execution_count": 25,
   "metadata": {},
   "outputs": [],
   "source": [
    "#On the to do list: download every champion portrait from this link: https://lol.fandom.com/wiki/Category:Champion_Square_Images\n",
    "# THEN, change each visual indicator on the map to be the champion portrait. There might be some scaling things."
   ]
  }
 ],
 "metadata": {
  "kernelspec": {
   "display_name": "Python 3",
   "language": "python",
   "name": "python3"
  },
  "language_info": {
   "codemirror_mode": {
    "name": "ipython",
    "version": 3
   },
   "file_extension": ".py",
   "mimetype": "text/x-python",
   "name": "python",
   "nbconvert_exporter": "python",
   "pygments_lexer": "ipython3",
   "version": "3.8.3"
  }
 },
 "nbformat": 4,
 "nbformat_minor": 2
}
